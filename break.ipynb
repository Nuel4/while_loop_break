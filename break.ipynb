{
 "cells": [
  {
   "cell_type": "code",
   "execution_count": 1,
   "metadata": {},
   "outputs": [
    {
     "name": "stdout",
     "output_type": "stream",
     "text": [
      "enter the quantity u want:5\n",
      "chocolate:  1\n",
      "chocolate:  2\n",
      "chocolate:  3\n",
      "chocolate:  4\n",
      "chocolate:  5\n"
     ]
    }
   ],
   "source": [
    "av=10\n",
    "\n",
    "intake =int(input('enter the quantity u want:'))\n",
    "i =1\n",
    "while i <=intake:\n",
    "    print('chocolate: ' ,i)\n",
    "    i +=1\n",
    "    if i >av:\n",
    "        print(\"out of stock\")\n",
    "        break"
   ]
  },
  {
   "cell_type": "code",
   "execution_count": null,
   "metadata": {},
   "outputs": [],
   "source": []
  }
 ],
 "metadata": {
  "kernelspec": {
   "display_name": "Python 3",
   "language": "python",
   "name": "python3"
  },
  "language_info": {
   "codemirror_mode": {
    "name": "ipython",
    "version": 3
   },
   "file_extension": ".py",
   "mimetype": "text/x-python",
   "name": "python",
   "nbconvert_exporter": "python",
   "pygments_lexer": "ipython3",
   "version": "3.7.3"
  }
 },
 "nbformat": 4,
 "nbformat_minor": 2
}
